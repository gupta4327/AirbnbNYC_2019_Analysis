{
  "nbformat": 4,
  "nbformat_minor": 0,
  "metadata": {
    "colab": {
      "provenance": [],
      "authorship_tag": "ABX9TyNENG/qR71X0WRuptZd71dJ",
      "include_colab_link": true
    },
    "kernelspec": {
      "name": "python3",
      "display_name": "Python 3"
    },
    "language_info": {
      "name": "python"
    }
  },
  "cells": [
    {
      "cell_type": "markdown",
      "metadata": {
        "id": "view-in-github",
        "colab_type": "text"
      },
      "source": [
        "<a href=\"https://colab.research.google.com/github/gupta4327/AirbnbNYC_2019_Analysis/blob/main/NLPTutorial.ipynb\" target=\"_parent\"><img src=\"https://colab.research.google.com/assets/colab-badge.svg\" alt=\"Open In Colab\"/></a>"
      ]
    },
    {
      "cell_type": "markdown",
      "source": [
        "## **NLP Tutorial**"
      ],
      "metadata": {
        "id": "UGAwi5yYaF01"
      }
    },
    {
      "cell_type": "markdown",
      "source": [
        "Removing HTML tags and URL"
      ],
      "metadata": {
        "id": "61VfaOIHaMLM"
      }
    },
    {
      "cell_type": "code",
      "execution_count": 10,
      "metadata": {
        "colab": {
          "base_uri": "https://localhost:8080/"
        },
        "id": "o-D-2cQUaEju",
        "outputId": "fbb8e559-4d27-4d12-c416-cb94079f9374"
      },
      "outputs": [
        {
          "output_type": "stream",
          "name": "stdout",
          "text": [
            "This is heading\n",
            "//www.google.com\n"
          ]
        }
      ],
      "source": [
        "from bs4 import BeautifulSoup\n",
        "import re \n",
        "#removing html tag\n",
        "html = \"<h>This is heading</h>\"\n",
        "bs = BeautifulSoup(html, 'html.parser')\n",
        "print(bs.get_text())\n",
        "\n",
        "#removing URLs\n",
        "url = \"https://www.google.com\"\n",
        "url = re.sub(r'https\\S','',url)\n",
        "print(url)"
      ]
    },
    {
      "cell_type": "code",
      "source": [],
      "metadata": {
        "id": "6I5Nf-jqahVw"
      },
      "execution_count": null,
      "outputs": []
    }
  ]
}