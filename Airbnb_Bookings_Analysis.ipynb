{
  "cells": [
    {
      "cell_type": "markdown",
      "metadata": {
        "id": "view-in-github",
        "colab_type": "text"
      },
      "source": [
        "<a href=\"https://colab.research.google.com/github/gupta4327/AirbnbNYC_2019_Analysis/blob/main/Airbnb_Bookings_Analysis.ipynb\" target=\"_parent\"><img src=\"https://colab.research.google.com/assets/colab-badge.svg\" alt=\"Open In Colab\"/></a>"
      ]
    },
    {
      "cell_type": "markdown",
      "metadata": {
        "id": "Y06xIdG26kRF"
      },
      "source": [
        "***Since 2008, guests and hosts have used Airbnb to expand on traveling possibilities and present a more unique, personalized way of experiencing the world. Today, Airbnb became one of a kind service that is used and recognized by the whole world. Data analysis on millions of listings provided through Airbnb is a crucial factor for the company. These millions of listings generate a lot of data - data that can be analyzed and used for security, business decisions, understanding of customers' and providers' (hosts) behavior and performance on the platform, guiding marketing initiatives, implementation of innovative additional services and much more.***\n",
        "\n",
        "# ***This dataset has around 49,000 observations in it with 16 columns and it is a mix between categorical and numeric values.***\n",
        "\n",
        "***Explore and analyze the data to discover key understandings (not limited to these) such as :***\n",
        "\n",
        "*What can we learn about different hosts and areas?*\n",
        "\n",
        "*What can we learn from predictions? (ex: locations, prices, reviews, etc)*\n",
        "\n",
        "*Which hosts are the busiest and why?*\n",
        "\n",
        "*Is there any noticeable difference of traffic among different areas and what could be the reason for it?*"
      ]
    },
    {
      "cell_type": "code",
      "source": [
        "#importing all the necessary modules/libraries required during the analysis\n",
        "import numpy as np\n",
        "import pandas as pd\n",
        "import matplotlib.pyplot as plt\n",
        "%matplotlib inline\n",
        "import seaborn as sns\n",
        "import warnings\n",
        "warnings.filterwarnings('ignore')"
      ],
      "metadata": {
        "id": "kysoj5gINX_5"
      },
      "execution_count": 1,
      "outputs": []
    },
    {
      "cell_type": "code",
      "source": [
        "#mounting google drive in colab\n",
        "from google.colab import drive\n",
        "drive.mount('/content/drive')"
      ],
      "metadata": {
        "colab": {
          "base_uri": "https://localhost:8080/"
        },
        "id": "ZnqxDgQMqh4u",
        "outputId": "0ef65a2d-36e4-45a6-e605-9342bc93b3eb"
      },
      "execution_count": 2,
      "outputs": [
        {
          "output_type": "stream",
          "name": "stdout",
          "text": [
            "Mounted at /content/drive\n"
          ]
        }
      ]
    },
    {
      "cell_type": "code",
      "source": [
        "#reading airbnb NYC 2019 csv data and storing it in airbnbNY_data dataframe\n",
        "file_path='/content/drive/MyDrive/Datascience/Datasets/Airbnb NYC 2019.csv'\n",
        "airbnbNY_data=pd.read_csv(file_path)"
      ],
      "metadata": {
        "id": "drMu7KeYN0wa"
      },
      "execution_count": 3,
      "outputs": []
    },
    {
      "cell_type": "markdown",
      "metadata": {
        "id": "hQRkJ9echIuE"
      },
      "source": [
        "# ***Part 1: Basic datapreprocessing and Cleaning***"
      ]
    },
    {
      "cell_type": "code",
      "execution_count": 4,
      "metadata": {
        "id": "imstWQBuSvcf",
        "colab": {
          "base_uri": "https://localhost:8080/"
        },
        "outputId": "87e9ee1c-439d-4f41-eb98-90ae44294855"
      },
      "outputs": [
        {
          "output_type": "execute_result",
          "data": {
            "text/plain": [
              "(48895, 16)"
            ]
          },
          "metadata": {},
          "execution_count": 4
        }
      ],
      "source": [
        "#----------------------Block 1----------------------------------\n",
        "\n",
        "#checking for no. of observations and features in our dataset\n",
        "airbnbNY_data.shape"
      ]
    },
    {
      "cell_type": "markdown",
      "metadata": {
        "id": "iAcEzFiiQVyW"
      },
      "source": [
        "*We have a listings of 48895 observations with 16 features*"
      ]
    },
    {
      "cell_type": "code",
      "execution_count": 5,
      "metadata": {
        "id": "X8MG2jBomQj6",
        "colab": {
          "base_uri": "https://localhost:8080/",
          "height": 461
        },
        "outputId": "f8f02942-ea40-4d83-d9af-9dcde8814bfd"
      },
      "outputs": [
        {
          "output_type": "execute_result",
          "data": {
            "text/plain": [
              "     id                                              name  host_id  \\\n",
              "0  2539                Clean & quiet apt home by the park     2787   \n",
              "1  2595                             Skylit Midtown Castle     2845   \n",
              "2  3647               THE VILLAGE OF HARLEM....NEW YORK !     4632   \n",
              "3  3831                   Cozy Entire Floor of Brownstone     4869   \n",
              "4  5022  Entire Apt: Spacious Studio/Loft by central park     7192   \n",
              "\n",
              "     host_name neighbourhood_group neighbourhood  latitude  longitude  \\\n",
              "0         John            Brooklyn    Kensington  40.64749  -73.97237   \n",
              "1     Jennifer           Manhattan       Midtown  40.75362  -73.98377   \n",
              "2    Elisabeth           Manhattan        Harlem  40.80902  -73.94190   \n",
              "3  LisaRoxanne            Brooklyn  Clinton Hill  40.68514  -73.95976   \n",
              "4        Laura           Manhattan   East Harlem  40.79851  -73.94399   \n",
              "\n",
              "         room_type  price  minimum_nights  number_of_reviews last_review  \\\n",
              "0     Private room    149               1                  9  2018-10-19   \n",
              "1  Entire home/apt    225               1                 45  2019-05-21   \n",
              "2     Private room    150               3                  0         NaN   \n",
              "3  Entire home/apt     89               1                270  2019-07-05   \n",
              "4  Entire home/apt     80              10                  9  2018-11-19   \n",
              "\n",
              "   reviews_per_month  calculated_host_listings_count  availability_365  \n",
              "0               0.21                               6               365  \n",
              "1               0.38                               2               355  \n",
              "2                NaN                               1               365  \n",
              "3               4.64                               1               194  \n",
              "4               0.10                               1                 0  "
            ],
            "text/html": [
              "\n",
              "  <div id=\"df-8614ec08-9a4e-4ca5-89df-c7b3b4189988\">\n",
              "    <div class=\"colab-df-container\">\n",
              "      <div>\n",
              "<style scoped>\n",
              "    .dataframe tbody tr th:only-of-type {\n",
              "        vertical-align: middle;\n",
              "    }\n",
              "\n",
              "    .dataframe tbody tr th {\n",
              "        vertical-align: top;\n",
              "    }\n",
              "\n",
              "    .dataframe thead th {\n",
              "        text-align: right;\n",
              "    }\n",
              "</style>\n",
              "<table border=\"1\" class=\"dataframe\">\n",
              "  <thead>\n",
              "    <tr style=\"text-align: right;\">\n",
              "      <th></th>\n",
              "      <th>id</th>\n",
              "      <th>name</th>\n",
              "      <th>host_id</th>\n",
              "      <th>host_name</th>\n",
              "      <th>neighbourhood_group</th>\n",
              "      <th>neighbourhood</th>\n",
              "      <th>latitude</th>\n",
              "      <th>longitude</th>\n",
              "      <th>room_type</th>\n",
              "      <th>price</th>\n",
              "      <th>minimum_nights</th>\n",
              "      <th>number_of_reviews</th>\n",
              "      <th>last_review</th>\n",
              "      <th>reviews_per_month</th>\n",
              "      <th>calculated_host_listings_count</th>\n",
              "      <th>availability_365</th>\n",
              "    </tr>\n",
              "  </thead>\n",
              "  <tbody>\n",
              "    <tr>\n",
              "      <th>0</th>\n",
              "      <td>2539</td>\n",
              "      <td>Clean &amp; quiet apt home by the park</td>\n",
              "      <td>2787</td>\n",
              "      <td>John</td>\n",
              "      <td>Brooklyn</td>\n",
              "      <td>Kensington</td>\n",
              "      <td>40.64749</td>\n",
              "      <td>-73.97237</td>\n",
              "      <td>Private room</td>\n",
              "      <td>149</td>\n",
              "      <td>1</td>\n",
              "      <td>9</td>\n",
              "      <td>2018-10-19</td>\n",
              "      <td>0.21</td>\n",
              "      <td>6</td>\n",
              "      <td>365</td>\n",
              "    </tr>\n",
              "    <tr>\n",
              "      <th>1</th>\n",
              "      <td>2595</td>\n",
              "      <td>Skylit Midtown Castle</td>\n",
              "      <td>2845</td>\n",
              "      <td>Jennifer</td>\n",
              "      <td>Manhattan</td>\n",
              "      <td>Midtown</td>\n",
              "      <td>40.75362</td>\n",
              "      <td>-73.98377</td>\n",
              "      <td>Entire home/apt</td>\n",
              "      <td>225</td>\n",
              "      <td>1</td>\n",
              "      <td>45</td>\n",
              "      <td>2019-05-21</td>\n",
              "      <td>0.38</td>\n",
              "      <td>2</td>\n",
              "      <td>355</td>\n",
              "    </tr>\n",
              "    <tr>\n",
              "      <th>2</th>\n",
              "      <td>3647</td>\n",
              "      <td>THE VILLAGE OF HARLEM....NEW YORK !</td>\n",
              "      <td>4632</td>\n",
              "      <td>Elisabeth</td>\n",
              "      <td>Manhattan</td>\n",
              "      <td>Harlem</td>\n",
              "      <td>40.80902</td>\n",
              "      <td>-73.94190</td>\n",
              "      <td>Private room</td>\n",
              "      <td>150</td>\n",
              "      <td>3</td>\n",
              "      <td>0</td>\n",
              "      <td>NaN</td>\n",
              "      <td>NaN</td>\n",
              "      <td>1</td>\n",
              "      <td>365</td>\n",
              "    </tr>\n",
              "    <tr>\n",
              "      <th>3</th>\n",
              "      <td>3831</td>\n",
              "      <td>Cozy Entire Floor of Brownstone</td>\n",
              "      <td>4869</td>\n",
              "      <td>LisaRoxanne</td>\n",
              "      <td>Brooklyn</td>\n",
              "      <td>Clinton Hill</td>\n",
              "      <td>40.68514</td>\n",
              "      <td>-73.95976</td>\n",
              "      <td>Entire home/apt</td>\n",
              "      <td>89</td>\n",
              "      <td>1</td>\n",
              "      <td>270</td>\n",
              "      <td>2019-07-05</td>\n",
              "      <td>4.64</td>\n",
              "      <td>1</td>\n",
              "      <td>194</td>\n",
              "    </tr>\n",
              "    <tr>\n",
              "      <th>4</th>\n",
              "      <td>5022</td>\n",
              "      <td>Entire Apt: Spacious Studio/Loft by central park</td>\n",
              "      <td>7192</td>\n",
              "      <td>Laura</td>\n",
              "      <td>Manhattan</td>\n",
              "      <td>East Harlem</td>\n",
              "      <td>40.79851</td>\n",
              "      <td>-73.94399</td>\n",
              "      <td>Entire home/apt</td>\n",
              "      <td>80</td>\n",
              "      <td>10</td>\n",
              "      <td>9</td>\n",
              "      <td>2018-11-19</td>\n",
              "      <td>0.10</td>\n",
              "      <td>1</td>\n",
              "      <td>0</td>\n",
              "    </tr>\n",
              "  </tbody>\n",
              "</table>\n",
              "</div>\n",
              "      <button class=\"colab-df-convert\" onclick=\"convertToInteractive('df-8614ec08-9a4e-4ca5-89df-c7b3b4189988')\"\n",
              "              title=\"Convert this dataframe to an interactive table.\"\n",
              "              style=\"display:none;\">\n",
              "        \n",
              "  <svg xmlns=\"http://www.w3.org/2000/svg\" height=\"24px\"viewBox=\"0 0 24 24\"\n",
              "       width=\"24px\">\n",
              "    <path d=\"M0 0h24v24H0V0z\" fill=\"none\"/>\n",
              "    <path d=\"M18.56 5.44l.94 2.06.94-2.06 2.06-.94-2.06-.94-.94-2.06-.94 2.06-2.06.94zm-11 1L8.5 8.5l.94-2.06 2.06-.94-2.06-.94L8.5 2.5l-.94 2.06-2.06.94zm10 10l.94 2.06.94-2.06 2.06-.94-2.06-.94-.94-2.06-.94 2.06-2.06.94z\"/><path d=\"M17.41 7.96l-1.37-1.37c-.4-.4-.92-.59-1.43-.59-.52 0-1.04.2-1.43.59L10.3 9.45l-7.72 7.72c-.78.78-.78 2.05 0 2.83L4 21.41c.39.39.9.59 1.41.59.51 0 1.02-.2 1.41-.59l7.78-7.78 2.81-2.81c.8-.78.8-2.07 0-2.86zM5.41 20L4 18.59l7.72-7.72 1.47 1.35L5.41 20z\"/>\n",
              "  </svg>\n",
              "      </button>\n",
              "      \n",
              "  <style>\n",
              "    .colab-df-container {\n",
              "      display:flex;\n",
              "      flex-wrap:wrap;\n",
              "      gap: 12px;\n",
              "    }\n",
              "\n",
              "    .colab-df-convert {\n",
              "      background-color: #E8F0FE;\n",
              "      border: none;\n",
              "      border-radius: 50%;\n",
              "      cursor: pointer;\n",
              "      display: none;\n",
              "      fill: #1967D2;\n",
              "      height: 32px;\n",
              "      padding: 0 0 0 0;\n",
              "      width: 32px;\n",
              "    }\n",
              "\n",
              "    .colab-df-convert:hover {\n",
              "      background-color: #E2EBFA;\n",
              "      box-shadow: 0px 1px 2px rgba(60, 64, 67, 0.3), 0px 1px 3px 1px rgba(60, 64, 67, 0.15);\n",
              "      fill: #174EA6;\n",
              "    }\n",
              "\n",
              "    [theme=dark] .colab-df-convert {\n",
              "      background-color: #3B4455;\n",
              "      fill: #D2E3FC;\n",
              "    }\n",
              "\n",
              "    [theme=dark] .colab-df-convert:hover {\n",
              "      background-color: #434B5C;\n",
              "      box-shadow: 0px 1px 3px 1px rgba(0, 0, 0, 0.15);\n",
              "      filter: drop-shadow(0px 1px 2px rgba(0, 0, 0, 0.3));\n",
              "      fill: #FFFFFF;\n",
              "    }\n",
              "  </style>\n",
              "\n",
              "      <script>\n",
              "        const buttonEl =\n",
              "          document.querySelector('#df-8614ec08-9a4e-4ca5-89df-c7b3b4189988 button.colab-df-convert');\n",
              "        buttonEl.style.display =\n",
              "          google.colab.kernel.accessAllowed ? 'block' : 'none';\n",
              "\n",
              "        async function convertToInteractive(key) {\n",
              "          const element = document.querySelector('#df-8614ec08-9a4e-4ca5-89df-c7b3b4189988');\n",
              "          const dataTable =\n",
              "            await google.colab.kernel.invokeFunction('convertToInteractive',\n",
              "                                                     [key], {});\n",
              "          if (!dataTable) return;\n",
              "\n",
              "          const docLinkHtml = 'Like what you see? Visit the ' +\n",
              "            '<a target=\"_blank\" href=https://colab.research.google.com/notebooks/data_table.ipynb>data table notebook</a>'\n",
              "            + ' to learn more about interactive tables.';\n",
              "          element.innerHTML = '';\n",
              "          dataTable['output_type'] = 'display_data';\n",
              "          await google.colab.output.renderOutput(dataTable, element);\n",
              "          const docLink = document.createElement('div');\n",
              "          docLink.innerHTML = docLinkHtml;\n",
              "          element.appendChild(docLink);\n",
              "        }\n",
              "      </script>\n",
              "    </div>\n",
              "  </div>\n",
              "  "
            ]
          },
          "metadata": {},
          "execution_count": 5
        }
      ],
      "source": [
        "#----------------------Block 2----------------------------------\n",
        "\n",
        "# visualising first 5 observations from our dataset \n",
        "airbnbNY_data.head()"
      ]
    },
    {
      "cell_type": "markdown",
      "metadata": {
        "id": "ihSProwlQmv7"
      },
      "source": [
        " ****Data Dictionary****\n",
        "\n",
        "*1. ID - ID is just an unique identifier of each row.*\n",
        "\n",
        "*2. Name - It is a rental name which user sees while booking(hotel name).*\n",
        "\n",
        "*3. Host ID - Every host on Airbnb gets an unique host id, host id here represents that id only.*\n",
        "\n",
        "*4. Host name - Name of the host.*\n",
        "\n",
        "*5. Neighbourhood_group - Whole New York is divied into 5 neighbourhood_group(boroughs) regionally. It shows in which borough particular listing is located.*\n",
        "\n",
        "*6. Neighbourhood - Each borough is further sub divided into neighbourhoods. This column shows the neighbourhood of particular listing.*\n",
        "\n",
        "*7. Latitude and longitude - These shows the geographical positions of a rental.*\n",
        "\n",
        "*8. Room_Type -  Which room type a rental is offering.*\n",
        "\n",
        "*9. Price - Price per night that a rental is charging.*\n",
        "\n",
        "*10. Minimum Nights - For this much of nights minimally rental can be booked.*\n",
        "\n",
        "*11. Number of reviews - Number of reviews a rental has got till now.*\n",
        "\n",
        "*12. Review Per month - An average no. of reviews that a rental got per month.*\n",
        "\n",
        "*13. Last review - Date on which a rental got their last review.*\n",
        "\n",
        "*14. calculated_host_listings_count -  It is the no. of rentals a host is hosting in the dataset.*\n",
        "\n",
        "*15. Availability 365 - It is the no. of days for which a rental is available to book.*\n",
        "\n",
        "*NOTE - I have used the word rentals, listings and hostings interchangably here. All of these means the same.*"
      ]
    },
    {
      "cell_type": "code",
      "execution_count": 6,
      "metadata": {
        "id": "XzN212LUSx3P",
        "colab": {
          "base_uri": "https://localhost:8080/"
        },
        "outputId": "c0269f21-aac1-4cf4-e799-57852683bffa"
      },
      "outputs": [
        {
          "output_type": "stream",
          "name": "stdout",
          "text": [
            "<class 'pandas.core.frame.DataFrame'>\n",
            "RangeIndex: 48895 entries, 0 to 48894\n",
            "Data columns (total 16 columns):\n",
            " #   Column                          Non-Null Count  Dtype  \n",
            "---  ------                          --------------  -----  \n",
            " 0   id                              48895 non-null  int64  \n",
            " 1   name                            48879 non-null  object \n",
            " 2   host_id                         48895 non-null  int64  \n",
            " 3   host_name                       48874 non-null  object \n",
            " 4   neighbourhood_group             48895 non-null  object \n",
            " 5   neighbourhood                   48895 non-null  object \n",
            " 6   latitude                        48895 non-null  float64\n",
            " 7   longitude                       48895 non-null  float64\n",
            " 8   room_type                       48895 non-null  object \n",
            " 9   price                           48895 non-null  int64  \n",
            " 10  minimum_nights                  48895 non-null  int64  \n",
            " 11  number_of_reviews               48895 non-null  int64  \n",
            " 12  last_review                     38843 non-null  object \n",
            " 13  reviews_per_month               38843 non-null  float64\n",
            " 14  calculated_host_listings_count  48895 non-null  int64  \n",
            " 15  availability_365                48895 non-null  int64  \n",
            "dtypes: float64(3), int64(7), object(6)\n",
            "memory usage: 6.0+ MB\n"
          ]
        }
      ],
      "source": [
        "#----------------------Block 3----------------------------------\n",
        "\n",
        "#getting basic information about dataset\n",
        "airbnbNY_data.info()"
      ]
    },
    {
      "cell_type": "markdown",
      "metadata": {
        "id": "3R6miKMAQwia"
      },
      "source": [
        "*Outcomes*\n",
        "\n",
        "*1. Dataype of each columns*\n",
        "\n",
        "*2. Memory usage due to dataset*\n",
        "\n",
        "*3. Number of non null values in each columns*\n"
      ]
    },
    {
      "cell_type": "code",
      "execution_count": 7,
      "metadata": {
        "id": "RlYK1p6vS15M",
        "colab": {
          "base_uri": "https://localhost:8080/"
        },
        "outputId": "548ab749-4d2d-4296-bce0-675e81582f0c"
      },
      "outputs": [
        {
          "output_type": "execute_result",
          "data": {
            "text/plain": [
              "id                                    0\n",
              "name                                 16\n",
              "host_id                               0\n",
              "host_name                            21\n",
              "neighbourhood_group                   0\n",
              "neighbourhood                         0\n",
              "latitude                              0\n",
              "longitude                             0\n",
              "room_type                             0\n",
              "price                                 0\n",
              "minimum_nights                        0\n",
              "number_of_reviews                     0\n",
              "last_review                       10052\n",
              "reviews_per_month                 10052\n",
              "calculated_host_listings_count        0\n",
              "availability_365                      0\n",
              "dtype: int64"
            ]
          },
          "metadata": {},
          "execution_count": 7
        }
      ],
      "source": [
        "#----------------------Block 4----------------------------------\n",
        "\n",
        "# getting count of each null values in each column\n",
        "airbnbNY_data.isnull().sum()"
      ]
    },
    {
      "cell_type": "markdown",
      "metadata": {
        "id": "yuHSRWTpReJL"
      },
      "source": [
        "*1. Although Name and Host name has null values but it won't be of significant use in our analysis, we won't be caring much about it.*\n",
        "\n",
        "*2. Last review and review per month both have same number of null values. Actual reason is they are interdependent. Last_review includes a date of last review of specific listing. If it is null that means listing hasn't got any reviews yet and for the same reason review per month is also null.*\n",
        "\n",
        "*3. If you look for the observations having review_per_month and last_review as null values, logiclly no. of reviews value should be zero there. So, lets verify this.* \n",
        "\n"
      ]
    },
    {
      "cell_type": "code",
      "execution_count": 8,
      "metadata": {
        "id": "JIuCzaFgS30z",
        "colab": {
          "base_uri": "https://localhost:8080/"
        },
        "outputId": "27d813cd-c7d3-48b9-887f-da356a54afd3"
      },
      "outputs": [
        {
          "output_type": "execute_result",
          "data": {
            "text/plain": [
              "0    10052\n",
              "Name: number_of_reviews, dtype: int64"
            ]
          },
          "metadata": {},
          "execution_count": 8
        }
      ],
      "source": [
        "#----------------------Block 5----------------------------------\n",
        "\n",
        "# checking for number_of_review unique values where we have null values for last_review and review_per_month \n",
        "airbnbNY_data[airbnbNY_data['last_review'].isnull() & airbnbNY_data['reviews_per_month'].isnull()]['number_of_reviews'].value_counts()"
      ]
    },
    {
      "cell_type": "markdown",
      "metadata": {
        "id": "Y6OmU92-kdlD"
      },
      "source": [
        "*We will delete the last review column from dataframe as that is not much useful in terms of further data analysis make reviews_per_ month  0 where reviews_per_month is Null.*"
      ]
    },
    {
      "cell_type": "code",
      "execution_count": 9,
      "metadata": {
        "id": "evL-PSd_i67x"
      },
      "outputs": [],
      "source": [
        "#----------------------Block 6----------------------------------\n",
        "\n",
        "airbnbNY_data.drop(['last_review'],axis = 1, inplace = True)   # dropping last review column\n",
        "airbnbNY_data['reviews_per_month'].fillna(0,inplace=True)    #filling null values with 0 in reviews_per_month column"
      ]
    },
    {
      "cell_type": "markdown",
      "metadata": {
        "id": "G0y1kVPv4HVe"
      },
      "source": [
        "*Name of hotel is also not of a significant use to us so we'll drop that as well*"
      ]
    },
    {
      "cell_type": "code",
      "execution_count": 10,
      "metadata": {
        "id": "DjJL83L14eeP"
      },
      "outputs": [],
      "source": [
        "#----------------------Block 7----------------------------------\n",
        "\n",
        "airbnbNY_data.drop(['name'],axis = 1, inplace = True)   # dropping name column\n",
        "airbnbNY_data.drop(['host_name'],axis = 1, inplace = True)   # dropping host_name column"
      ]
    },
    {
      "cell_type": "code",
      "execution_count": 11,
      "metadata": {
        "id": "BsOGmrb54mya",
        "colab": {
          "base_uri": "https://localhost:8080/"
        },
        "outputId": "f4170936-6bd3-4a0d-cd0c-736404dbd965"
      },
      "outputs": [
        {
          "output_type": "execute_result",
          "data": {
            "text/plain": [
              "id                                0\n",
              "host_id                           0\n",
              "neighbourhood_group               0\n",
              "neighbourhood                     0\n",
              "latitude                          0\n",
              "longitude                         0\n",
              "room_type                         0\n",
              "price                             0\n",
              "minimum_nights                    0\n",
              "number_of_reviews                 0\n",
              "reviews_per_month                 0\n",
              "calculated_host_listings_count    0\n",
              "availability_365                  0\n",
              "dtype: int64"
            ]
          },
          "metadata": {},
          "execution_count": 11
        }
      ],
      "source": [
        "#----------------------Block 8----------------------------------\n",
        "\n",
        "#null values check\n",
        "airbnbNY_data.isnull().sum()"
      ]
    },
    {
      "cell_type": "markdown",
      "metadata": {
        "id": "WBvRzS-o5Ozj"
      },
      "source": [
        "*We have treated null values and dropped all unneccesary columns as well .*"
      ]
    },
    {
      "cell_type": "code",
      "execution_count": 12,
      "metadata": {
        "id": "lsp0fZ6UVG58",
        "colab": {
          "base_uri": "https://localhost:8080/",
          "height": 300
        },
        "outputId": "839bf310-64a4-4c72-ade7-d806cb642881"
      },
      "outputs": [
        {
          "output_type": "execute_result",
          "data": {
            "text/plain": [
              "              price  minimum_nights  number_of_reviews  reviews_per_month  \\\n",
              "count  48895.000000    48895.000000       48895.000000       48895.000000   \n",
              "mean     152.720687        7.029962          23.274466           1.090910   \n",
              "std      240.154170       20.510550          44.550582           1.597283   \n",
              "min        0.000000        1.000000           0.000000           0.000000   \n",
              "25%       69.000000        1.000000           1.000000           0.040000   \n",
              "50%      106.000000        3.000000           5.000000           0.370000   \n",
              "75%      175.000000        5.000000          24.000000           1.580000   \n",
              "max    10000.000000     1250.000000         629.000000          58.500000   \n",
              "\n",
              "       calculated_host_listings_count  availability_365  \n",
              "count                    48895.000000      48895.000000  \n",
              "mean                         7.143982        112.781327  \n",
              "std                         32.952519        131.622289  \n",
              "min                          1.000000          0.000000  \n",
              "25%                          1.000000          0.000000  \n",
              "50%                          1.000000         45.000000  \n",
              "75%                          2.000000        227.000000  \n",
              "max                        327.000000        365.000000  "
            ],
            "text/html": [
              "\n",
              "  <div id=\"df-cdc597cf-b739-443c-8a22-1771486c0092\">\n",
              "    <div class=\"colab-df-container\">\n",
              "      <div>\n",
              "<style scoped>\n",
              "    .dataframe tbody tr th:only-of-type {\n",
              "        vertical-align: middle;\n",
              "    }\n",
              "\n",
              "    .dataframe tbody tr th {\n",
              "        vertical-align: top;\n",
              "    }\n",
              "\n",
              "    .dataframe thead th {\n",
              "        text-align: right;\n",
              "    }\n",
              "</style>\n",
              "<table border=\"1\" class=\"dataframe\">\n",
              "  <thead>\n",
              "    <tr style=\"text-align: right;\">\n",
              "      <th></th>\n",
              "      <th>price</th>\n",
              "      <th>minimum_nights</th>\n",
              "      <th>number_of_reviews</th>\n",
              "      <th>reviews_per_month</th>\n",
              "      <th>calculated_host_listings_count</th>\n",
              "      <th>availability_365</th>\n",
              "    </tr>\n",
              "  </thead>\n",
              "  <tbody>\n",
              "    <tr>\n",
              "      <th>count</th>\n",
              "      <td>48895.000000</td>\n",
              "      <td>48895.000000</td>\n",
              "      <td>48895.000000</td>\n",
              "      <td>48895.000000</td>\n",
              "      <td>48895.000000</td>\n",
              "      <td>48895.000000</td>\n",
              "    </tr>\n",
              "    <tr>\n",
              "      <th>mean</th>\n",
              "      <td>152.720687</td>\n",
              "      <td>7.029962</td>\n",
              "      <td>23.274466</td>\n",
              "      <td>1.090910</td>\n",
              "      <td>7.143982</td>\n",
              "      <td>112.781327</td>\n",
              "    </tr>\n",
              "    <tr>\n",
              "      <th>std</th>\n",
              "      <td>240.154170</td>\n",
              "      <td>20.510550</td>\n",
              "      <td>44.550582</td>\n",
              "      <td>1.597283</td>\n",
              "      <td>32.952519</td>\n",
              "      <td>131.622289</td>\n",
              "    </tr>\n",
              "    <tr>\n",
              "      <th>min</th>\n",
              "      <td>0.000000</td>\n",
              "      <td>1.000000</td>\n",
              "      <td>0.000000</td>\n",
              "      <td>0.000000</td>\n",
              "      <td>1.000000</td>\n",
              "      <td>0.000000</td>\n",
              "    </tr>\n",
              "    <tr>\n",
              "      <th>25%</th>\n",
              "      <td>69.000000</td>\n",
              "      <td>1.000000</td>\n",
              "      <td>1.000000</td>\n",
              "      <td>0.040000</td>\n",
              "      <td>1.000000</td>\n",
              "      <td>0.000000</td>\n",
              "    </tr>\n",
              "    <tr>\n",
              "      <th>50%</th>\n",
              "      <td>106.000000</td>\n",
              "      <td>3.000000</td>\n",
              "      <td>5.000000</td>\n",
              "      <td>0.370000</td>\n",
              "      <td>1.000000</td>\n",
              "      <td>45.000000</td>\n",
              "    </tr>\n",
              "    <tr>\n",
              "      <th>75%</th>\n",
              "      <td>175.000000</td>\n",
              "      <td>5.000000</td>\n",
              "      <td>24.000000</td>\n",
              "      <td>1.580000</td>\n",
              "      <td>2.000000</td>\n",
              "      <td>227.000000</td>\n",
              "    </tr>\n",
              "    <tr>\n",
              "      <th>max</th>\n",
              "      <td>10000.000000</td>\n",
              "      <td>1250.000000</td>\n",
              "      <td>629.000000</td>\n",
              "      <td>58.500000</td>\n",
              "      <td>327.000000</td>\n",
              "      <td>365.000000</td>\n",
              "    </tr>\n",
              "  </tbody>\n",
              "</table>\n",
              "</div>\n",
              "      <button class=\"colab-df-convert\" onclick=\"convertToInteractive('df-cdc597cf-b739-443c-8a22-1771486c0092')\"\n",
              "              title=\"Convert this dataframe to an interactive table.\"\n",
              "              style=\"display:none;\">\n",
              "        \n",
              "  <svg xmlns=\"http://www.w3.org/2000/svg\" height=\"24px\"viewBox=\"0 0 24 24\"\n",
              "       width=\"24px\">\n",
              "    <path d=\"M0 0h24v24H0V0z\" fill=\"none\"/>\n",
              "    <path d=\"M18.56 5.44l.94 2.06.94-2.06 2.06-.94-2.06-.94-.94-2.06-.94 2.06-2.06.94zm-11 1L8.5 8.5l.94-2.06 2.06-.94-2.06-.94L8.5 2.5l-.94 2.06-2.06.94zm10 10l.94 2.06.94-2.06 2.06-.94-2.06-.94-.94-2.06-.94 2.06-2.06.94z\"/><path d=\"M17.41 7.96l-1.37-1.37c-.4-.4-.92-.59-1.43-.59-.52 0-1.04.2-1.43.59L10.3 9.45l-7.72 7.72c-.78.78-.78 2.05 0 2.83L4 21.41c.39.39.9.59 1.41.59.51 0 1.02-.2 1.41-.59l7.78-7.78 2.81-2.81c.8-.78.8-2.07 0-2.86zM5.41 20L4 18.59l7.72-7.72 1.47 1.35L5.41 20z\"/>\n",
              "  </svg>\n",
              "      </button>\n",
              "      \n",
              "  <style>\n",
              "    .colab-df-container {\n",
              "      display:flex;\n",
              "      flex-wrap:wrap;\n",
              "      gap: 12px;\n",
              "    }\n",
              "\n",
              "    .colab-df-convert {\n",
              "      background-color: #E8F0FE;\n",
              "      border: none;\n",
              "      border-radius: 50%;\n",
              "      cursor: pointer;\n",
              "      display: none;\n",
              "      fill: #1967D2;\n",
              "      height: 32px;\n",
              "      padding: 0 0 0 0;\n",
              "      width: 32px;\n",
              "    }\n",
              "\n",
              "    .colab-df-convert:hover {\n",
              "      background-color: #E2EBFA;\n",
              "      box-shadow: 0px 1px 2px rgba(60, 64, 67, 0.3), 0px 1px 3px 1px rgba(60, 64, 67, 0.15);\n",
              "      fill: #174EA6;\n",
              "    }\n",
              "\n",
              "    [theme=dark] .colab-df-convert {\n",
              "      background-color: #3B4455;\n",
              "      fill: #D2E3FC;\n",
              "    }\n",
              "\n",
              "    [theme=dark] .colab-df-convert:hover {\n",
              "      background-color: #434B5C;\n",
              "      box-shadow: 0px 1px 3px 1px rgba(0, 0, 0, 0.15);\n",
              "      filter: drop-shadow(0px 1px 2px rgba(0, 0, 0, 0.3));\n",
              "      fill: #FFFFFF;\n",
              "    }\n",
              "  </style>\n",
              "\n",
              "      <script>\n",
              "        const buttonEl =\n",
              "          document.querySelector('#df-cdc597cf-b739-443c-8a22-1771486c0092 button.colab-df-convert');\n",
              "        buttonEl.style.display =\n",
              "          google.colab.kernel.accessAllowed ? 'block' : 'none';\n",
              "\n",
              "        async function convertToInteractive(key) {\n",
              "          const element = document.querySelector('#df-cdc597cf-b739-443c-8a22-1771486c0092');\n",
              "          const dataTable =\n",
              "            await google.colab.kernel.invokeFunction('convertToInteractive',\n",
              "                                                     [key], {});\n",
              "          if (!dataTable) return;\n",
              "\n",
              "          const docLinkHtml = 'Like what you see? Visit the ' +\n",
              "            '<a target=\"_blank\" href=https://colab.research.google.com/notebooks/data_table.ipynb>data table notebook</a>'\n",
              "            + ' to learn more about interactive tables.';\n",
              "          element.innerHTML = '';\n",
              "          dataTable['output_type'] = 'display_data';\n",
              "          await google.colab.output.renderOutput(dataTable, element);\n",
              "          const docLink = document.createElement('div');\n",
              "          docLink.innerHTML = docLinkHtml;\n",
              "          element.appendChild(docLink);\n",
              "        }\n",
              "      </script>\n",
              "    </div>\n",
              "  </div>\n",
              "  "
            ]
          },
          "metadata": {},
          "execution_count": 12
        }
      ],
      "source": [
        "#----------------------Block 9----------------------------------\n",
        "\n",
        "#checking for descriptive summary of data\n",
        "airbnbNY_data.drop(['id','host_id','latitude','longitude'], axis =1).describe()"
      ]
    },
    {
      "cell_type": "markdown",
      "metadata": {
        "id": "5xRFMcszeUkH"
      },
      "source": [
        "*Descriptive table tells us that except availability 365, all other features has some serious outliers.*\n",
        "\n",
        "*As a part of this project we are only performing EDA .So there might not be a need of outlier treatment but in some specific cases outliers affects our EDA task as well. So we'll look for temporary treatment at that point.*\n"
      ]
    },
    {
      "cell_type": "markdown",
      "metadata": {
        "id": "OHR2xLWh8RxL"
      },
      "source": [
        "# ***Part 2: Feature analysis and engineering***"
      ]
    },
    {
      "cell_type": "markdown",
      "metadata": {
        "id": "hy23Hf2U8cTF"
      },
      "source": [
        "##***1 .Visualising and analysing about different areas(neighbourhood and boroughs)***"
      ]
    },
    {
      "cell_type": "code",
      "execution_count": 13,
      "metadata": {
        "id": "kCKPcObq17oP",
        "colab": {
          "base_uri": "https://localhost:8080/"
        },
        "outputId": "f63e6710-89b2-4d9e-c7f9-54d51789fcec"
      },
      "outputs": [
        {
          "output_type": "execute_result",
          "data": {
            "text/plain": [
              "array(['Brooklyn', 'Manhattan', 'Queens', 'Staten Island', 'Bronx'],\n",
              "      dtype=object)"
            ]
          },
          "metadata": {},
          "execution_count": 13
        }
      ],
      "source": [
        "#----------------------Block 10----------------------------------\n",
        "\n",
        "# unique categories in neighbourhood_group\n",
        "airbnbNY_data['neighbourhood_group'].unique()"
      ]
    },
    {
      "cell_type": "markdown",
      "metadata": {
        "id": "iJJvGaPo2K96"
      },
      "source": [
        "*1. There are total of 5 neighbourhood groups.*\n",
        "\n",
        "\n",
        "*2. In New York whole New York city has been divided in these(neighbourhood_group) five adminstrative region and these are called borough there. So we will rename the neighbourhood_group columns to borough for better comprehensiveness.*\n"
      ]
    },
    {
      "cell_type": "code",
      "execution_count": 14,
      "metadata": {
        "id": "37Zzwojl22C6"
      },
      "outputs": [],
      "source": [
        "#----------------------Block 11----------------------------------\n",
        "\n",
        "airbnbNY_data.rename(columns={'neighbourhood_group':'borough'}, inplace=True) # renaming neighbourhood group column to borough"
      ]
    },
    {
      "cell_type": "code",
      "execution_count": 15,
      "metadata": {
        "id": "v_E1vXV0jECI",
        "colab": {
          "base_uri": "https://localhost:8080/",
          "height": 357
        },
        "outputId": "e331d589-1f17-40cf-bfbd-7fa0c8141ec6"
      },
      "outputs": [
        {
          "output_type": "execute_result",
          "data": {
            "text/plain": [
              "     id  host_id    borough neighbourhood  latitude  longitude  \\\n",
              "0  2539     2787   Brooklyn    Kensington  40.64749  -73.97237   \n",
              "1  2595     2845  Manhattan       Midtown  40.75362  -73.98377   \n",
              "2  3647     4632  Manhattan        Harlem  40.80902  -73.94190   \n",
              "3  3831     4869   Brooklyn  Clinton Hill  40.68514  -73.95976   \n",
              "4  5022     7192  Manhattan   East Harlem  40.79851  -73.94399   \n",
              "\n",
              "         room_type  price  minimum_nights  number_of_reviews  \\\n",
              "0     Private room    149               1                  9   \n",
              "1  Entire home/apt    225               1                 45   \n",
              "2     Private room    150               3                  0   \n",
              "3  Entire home/apt     89               1                270   \n",
              "4  Entire home/apt     80              10                  9   \n",
              "\n",
              "   reviews_per_month  calculated_host_listings_count  availability_365  \n",
              "0               0.21                               6               365  \n",
              "1               0.38                               2               355  \n",
              "2               0.00                               1               365  \n",
              "3               4.64                               1               194  \n",
              "4               0.10                               1                 0  "
            ],
            "text/html": [
              "\n",
              "  <div id=\"df-a2244285-c30d-4a02-a67d-787b9c159a86\">\n",
              "    <div class=\"colab-df-container\">\n",
              "      <div>\n",
              "<style scoped>\n",
              "    .dataframe tbody tr th:only-of-type {\n",
              "        vertical-align: middle;\n",
              "    }\n",
              "\n",
              "    .dataframe tbody tr th {\n",
              "        vertical-align: top;\n",
              "    }\n",
              "\n",
              "    .dataframe thead th {\n",
              "        text-align: right;\n",
              "    }\n",
              "</style>\n",
              "<table border=\"1\" class=\"dataframe\">\n",
              "  <thead>\n",
              "    <tr style=\"text-align: right;\">\n",
              "      <th></th>\n",
              "      <th>id</th>\n",
              "      <th>host_id</th>\n",
              "      <th>borough</th>\n",
              "      <th>neighbourhood</th>\n",
              "      <th>latitude</th>\n",
              "      <th>longitude</th>\n",
              "      <th>room_type</th>\n",
              "      <th>price</th>\n",
              "      <th>minimum_nights</th>\n",
              "      <th>number_of_reviews</th>\n",
              "      <th>reviews_per_month</th>\n",
              "      <th>calculated_host_listings_count</th>\n",
              "      <th>availability_365</th>\n",
              "    </tr>\n",
              "  </thead>\n",
              "  <tbody>\n",
              "    <tr>\n",
              "      <th>0</th>\n",
              "      <td>2539</td>\n",
              "      <td>2787</td>\n",
              "      <td>Brooklyn</td>\n",
              "      <td>Kensington</td>\n",
              "      <td>40.64749</td>\n",
              "      <td>-73.97237</td>\n",
              "      <td>Private room</td>\n",
              "      <td>149</td>\n",
              "      <td>1</td>\n",
              "      <td>9</td>\n",
              "      <td>0.21</td>\n",
              "      <td>6</td>\n",
              "      <td>365</td>\n",
              "    </tr>\n",
              "    <tr>\n",
              "      <th>1</th>\n",
              "      <td>2595</td>\n",
              "      <td>2845</td>\n",
              "      <td>Manhattan</td>\n",
              "      <td>Midtown</td>\n",
              "      <td>40.75362</td>\n",
              "      <td>-73.98377</td>\n",
              "      <td>Entire home/apt</td>\n",
              "      <td>225</td>\n",
              "      <td>1</td>\n",
              "      <td>45</td>\n",
              "      <td>0.38</td>\n",
              "      <td>2</td>\n",
              "      <td>355</td>\n",
              "    </tr>\n",
              "    <tr>\n",
              "      <th>2</th>\n",
              "      <td>3647</td>\n",
              "      <td>4632</td>\n",
              "      <td>Manhattan</td>\n",
              "      <td>Harlem</td>\n",
              "      <td>40.80902</td>\n",
              "      <td>-73.94190</td>\n",
              "      <td>Private room</td>\n",
              "      <td>150</td>\n",
              "      <td>3</td>\n",
              "      <td>0</td>\n",
              "      <td>0.00</td>\n",
              "      <td>1</td>\n",
              "      <td>365</td>\n",
              "    </tr>\n",
              "    <tr>\n",
              "      <th>3</th>\n",
              "      <td>3831</td>\n",
              "      <td>4869</td>\n",
              "      <td>Brooklyn</td>\n",
              "      <td>Clinton Hill</td>\n",
              "      <td>40.68514</td>\n",
              "      <td>-73.95976</td>\n",
              "      <td>Entire home/apt</td>\n",
              "      <td>89</td>\n",
              "      <td>1</td>\n",
              "      <td>270</td>\n",
              "      <td>4.64</td>\n",
              "      <td>1</td>\n",
              "      <td>194</td>\n",
              "    </tr>\n",
              "    <tr>\n",
              "      <th>4</th>\n",
              "      <td>5022</td>\n",
              "      <td>7192</td>\n",
              "      <td>Manhattan</td>\n",
              "      <td>East Harlem</td>\n",
              "      <td>40.79851</td>\n",
              "      <td>-73.94399</td>\n",
              "      <td>Entire home/apt</td>\n",
              "      <td>80</td>\n",
              "      <td>10</td>\n",
              "      <td>9</td>\n",
              "      <td>0.10</td>\n",
              "      <td>1</td>\n",
              "      <td>0</td>\n",
              "    </tr>\n",
              "  </tbody>\n",
              "</table>\n",
              "</div>\n",
              "      <button class=\"colab-df-convert\" onclick=\"convertToInteractive('df-a2244285-c30d-4a02-a67d-787b9c159a86')\"\n",
              "              title=\"Convert this dataframe to an interactive table.\"\n",
              "              style=\"display:none;\">\n",
              "        \n",
              "  <svg xmlns=\"http://www.w3.org/2000/svg\" height=\"24px\"viewBox=\"0 0 24 24\"\n",
              "       width=\"24px\">\n",
              "    <path d=\"M0 0h24v24H0V0z\" fill=\"none\"/>\n",
              "    <path d=\"M18.56 5.44l.94 2.06.94-2.06 2.06-.94-2.06-.94-.94-2.06-.94 2.06-2.06.94zm-11 1L8.5 8.5l.94-2.06 2.06-.94-2.06-.94L8.5 2.5l-.94 2.06-2.06.94zm10 10l.94 2.06.94-2.06 2.06-.94-2.06-.94-.94-2.06-.94 2.06-2.06.94z\"/><path d=\"M17.41 7.96l-1.37-1.37c-.4-.4-.92-.59-1.43-.59-.52 0-1.04.2-1.43.59L10.3 9.45l-7.72 7.72c-.78.78-.78 2.05 0 2.83L4 21.41c.39.39.9.59 1.41.59.51 0 1.02-.2 1.41-.59l7.78-7.78 2.81-2.81c.8-.78.8-2.07 0-2.86zM5.41 20L4 18.59l7.72-7.72 1.47 1.35L5.41 20z\"/>\n",
              "  </svg>\n",
              "      </button>\n",
              "      \n",
              "  <style>\n",
              "    .colab-df-container {\n",
              "      display:flex;\n",
              "      flex-wrap:wrap;\n",
              "      gap: 12px;\n",
              "    }\n",
              "\n",
              "    .colab-df-convert {\n",
              "      background-color: #E8F0FE;\n",
              "      border: none;\n",
              "      border-radius: 50%;\n",
              "      cursor: pointer;\n",
              "      display: none;\n",
              "      fill: #1967D2;\n",
              "      height: 32px;\n",
              "      padding: 0 0 0 0;\n",
              "      width: 32px;\n",
              "    }\n",
              "\n",
              "    .colab-df-convert:hover {\n",
              "      background-color: #E2EBFA;\n",
              "      box-shadow: 0px 1px 2px rgba(60, 64, 67, 0.3), 0px 1px 3px 1px rgba(60, 64, 67, 0.15);\n",
              "      fill: #174EA6;\n",
              "    }\n",
              "\n",
              "    [theme=dark] .colab-df-convert {\n",
              "      background-color: #3B4455;\n",
              "      fill: #D2E3FC;\n",
              "    }\n",
              "\n",
              "    [theme=dark] .colab-df-convert:hover {\n",
              "      background-color: #434B5C;\n",
              "      box-shadow: 0px 1px 3px 1px rgba(0, 0, 0, 0.15);\n",
              "      filter: drop-shadow(0px 1px 2px rgba(0, 0, 0, 0.3));\n",
              "      fill: #FFFFFF;\n",
              "    }\n",
              "  </style>\n",
              "\n",
              "      <script>\n",
              "        const buttonEl =\n",
              "          document.querySelector('#df-a2244285-c30d-4a02-a67d-787b9c159a86 button.colab-df-convert');\n",
              "        buttonEl.style.display =\n",
              "          google.colab.kernel.accessAllowed ? 'block' : 'none';\n",
              "\n",
              "        async function convertToInteractive(key) {\n",
              "          const element = document.querySelector('#df-a2244285-c30d-4a02-a67d-787b9c159a86');\n",
              "          const dataTable =\n",
              "            await google.colab.kernel.invokeFunction('convertToInteractive',\n",
              "                                                     [key], {});\n",
              "          if (!dataTable) return;\n",
              "\n",
              "          const docLinkHtml = 'Like what you see? Visit the ' +\n",
              "            '<a target=\"_blank\" href=https://colab.research.google.com/notebooks/data_table.ipynb>data table notebook</a>'\n",
              "            + ' to learn more about interactive tables.';\n",
              "          element.innerHTML = '';\n",
              "          dataTable['output_type'] = 'display_data';\n",
              "          await google.colab.output.renderOutput(dataTable, element);\n",
              "          const docLink = document.createElement('div');\n",
              "          docLink.innerHTML = docLinkHtml;\n",
              "          element.appendChild(docLink);\n",
              "        }\n",
              "      </script>\n",
              "    </div>\n",
              "  </div>\n",
              "  "
            ]
          },
          "metadata": {},
          "execution_count": 15
        }
      ],
      "source": [
        "#----------------------Block 12----------------------------------\n",
        "\n",
        "\n",
        "airbnbNY_data.head()  # data check for column rename "
      ]
    },
    {
      "cell_type": "markdown",
      "metadata": {
        "id": "MjGvXAaU4Vyh"
      },
      "source": [
        "###**Let's look into how hosting is divided among these boroughs**"
      ]
    },
    {
      "cell_type": "code",
      "execution_count": 16,
      "metadata": {
        "id": "VCCs7PTRG0lL",
        "colab": {
          "base_uri": "https://localhost:8080/"
        },
        "outputId": "bc5f2e39-b561-4dc8-a52b-bc811ca39167"
      },
      "outputs": [
        {
          "output_type": "execute_result",
          "data": {
            "text/plain": [
              "Manhattan        21661\n",
              "Brooklyn         20104\n",
              "Queens            5666\n",
              "Bronx             1091\n",
              "Staten Island      373\n",
              "Name: borough, dtype: int64"
            ]
          },
          "metadata": {},
          "execution_count": 16
        }
      ],
      "source": [
        "#----------------------Block 13----------------------------------\n",
        "\n",
        "#checking for the observations under each borough\n",
        "borough_hositing = airbnbNY_data['borough'].value_counts().sort_values(ascending=False)\n",
        "borough_hositing"
      ]
    },
    {
      "cell_type": "code",
      "execution_count": 17,
      "metadata": {
        "id": "RkLK0wJAHhCm",
        "colab": {
          "base_uri": "https://localhost:8080/",
          "height": 441
        },
        "outputId": "cf9ed63d-0cff-45b2-83fc-7b51d5380db5"
      },
      "outputs": [
        {
          "output_type": "display_data",
          "data": {
            "text/plain": [
              "<Figure size 1152x432 with 2 Axes>"
            ],
            "image/png": "[encoded data removed]"
          },
          "metadata": {
            "needs_background": "light"
          }
        }
      ],
      "source": [
        "#----------------------Block 14----------------------------------\n",
        "\n",
        "#plotting the above found details\n",
        "fig,axes= plt.subplots(1,2,figsize=(16,6))  #defining figure and initialising axes \n",
        "borough_hositing.plot.pie(autopct = '%1.2f%%', ax = axes[0]) #pie plot in axes[0]\n",
        "axes[0].set_title('Percentage split of hostings \\n among each borough')  # title for pie plot\n",
        "axes[0].legend()  #to get legends\n",
        "borough_hositing.plot.bar(ax = axes[1],color=['blue','orange','green','red','purple'])  #bar plot in axes[1]\n",
        "axes[1].set_title('Number of hostings among different boroughs')  # title for bar plot\n",
        "axes[1].set(ylabel='No. of hostings', xlabel='Boroughs')   # labelling y and x axis\n",
        "fig.tight_layout() #for creating proper spacing and arrangement among different figures on canvas"
      ]
    },
    {
      "cell_type": "markdown",
      "metadata": {
        "id": "HU8OidukLRmn"
      },
      "source": [
        "*From above charts we can see that major no. of hostings are from Brooklyn and Manhattan from this listing of airbnb New York city whereas Staten Island and Bronx are way too less populous in terms of hostings.*\n",
        "\n",
        "*Actually Manhattan is one of  the most attracted tourism borough in New York called to be as a heart of New York city and Brooklyn follows after Manhattan and also it is most populous borough that is one of the strong reason for Brooklyn and Manhattan to be dominating in terms of hostings.* \n"
      ]
    },
    {
      "cell_type": "markdown",
      "metadata": {
        "id": "2koBHFHS1Kup"
      },
      "source": [
        "###**Checking for some of the top neighbourhoods and to which borough they belong**\n",
        "\n",
        "\n",
        "\n",
        "\n",
        "*Note : We are qualifying neighbourhood as top on the basis of number of hostings.*\n",
        "\n"
      ]
    },
    {
      "cell_type": "code",
      "execution_count": 18,
      "metadata": {
        "id": "mIEZsnXP1ZJb",
        "colab": {
          "base_uri": "https://localhost:8080/",
          "height": 676
        },
        "outputId": "29641662-a13b-4fc0-8a3d-8517663e8931"
      },
      "outputs": [
        {
          "output_type": "execute_result",
          "data": {
            "text/plain": [
              "      borough       neighbourhood  num of hostings\n",
              "0    Brooklyn        Williamsburg             3920\n",
              "1    Brooklyn  Bedford-Stuyvesant             3714\n",
              "2   Manhattan              Harlem             2658\n",
              "3    Brooklyn            Bushwick             2465\n",
              "4   Manhattan     Upper West Side             1971\n",
              "5   Manhattan      Hell's Kitchen             1958\n",
              "6   Manhattan        East Village             1853\n",
              "7   Manhattan     Upper East Side             1798\n",
              "8    Brooklyn       Crown Heights             1564\n",
              "9   Manhattan             Midtown             1545\n",
              "10  Manhattan         East Harlem             1117\n",
              "11   Brooklyn          Greenpoint             1115\n",
              "12  Manhattan             Chelsea             1113\n",
              "13  Manhattan     Lower East Side              911\n",
              "14     Queens             Astoria              900\n",
              "15  Manhattan  Washington Heights              899\n",
              "16  Manhattan        West Village              768\n",
              "17  Manhattan  Financial District              744\n",
              "18   Brooklyn            Flatbush              621\n",
              "19   Brooklyn        Clinton Hill              572"
            ],
            "text/html": [
              "\n",
              "  <div id=\"df-3f30d0a7-1c64-4549-ac99-0ef7e6bc6b30\">\n",
              "    <div class=\"colab-df-container\">\n",
              "      <div>\n",
              "<style scoped>\n",
              "    .dataframe tbody tr th:only-of-type {\n",
              "        vertical-align: middle;\n",
              "    }\n",
              "\n",
              "    .dataframe tbody tr th {\n",
              "        vertical-align: top;\n",
              "    }\n",
              "\n",
              "    .dataframe thead th {\n",
              "        text-align: right;\n",
              "    }\n",
              "</style>\n",
              "<table border=\"1\" class=\"dataframe\">\n",
              "  <thead>\n",
              "    <tr style=\"text-align: right;\">\n",
              "      <th></th>\n",
              "      <th>borough</th>\n",
              "      <th>neighbourhood</th>\n",
              "      <th>num of hostings</th>\n",
              "    </tr>\n",
              "  </thead>\n",
              "  <tbody>\n",
              "    <tr>\n",
              "      <th>0</th>\n",
              "      <td>Brooklyn</td>\n",
              "      <td>Williamsburg</td>\n",
              "      <td>3920</td>\n",
              "    </tr>\n",
              "    <tr>\n",
              "      <th>1</th>\n",
              "      <td>Brooklyn</td>\n",
              "      <td>Bedford-Stuyvesant</td>\n",
              "      <td>3714</td>\n",
              "    </tr>\n",
              "    <tr>\n",
              "      <th>2</th>\n",
              "      <td>Manhattan</td>\n",
              "      <td>Harlem</td>\n",
              "      <td>2658</td>\n",
              "    </tr>\n",
              "    <tr>\n",
              "      <th>3</th>\n",
              "      <td>Brooklyn</td>\n",
              "      <td>Bushwick</td>\n",
              "      <td>2465</td>\n",
              "    </tr>\n",
              "    <tr>\n",
              "      <th>4</th>\n",
              "      <td>Manhattan</td>\n",
              "      <td>Upper West Side</td>\n",
              "      <td>1971</td>\n",
              "    </tr>\n",
              "    <tr>\n",
              "      <th>5</th>\n",
              "      <td>Manhattan</td>\n",
              "      <td>Hell's Kitchen</td>\n",
              "      <td>1958</td>\n",
              "    </tr>\n",
              "    <tr>\n",
              "      <th>6</th>\n",
              "      <td>Manhattan</td>\n",
              "      <td>East Village</td>\n",
              "      <td>1853</td>\n",
              "    </tr>\n",
              "    <tr>\n",
              "      <th>7</th>\n",
              "      <td>Manhattan</td>\n",
              "      <td>Upper East Side</td>\n",
              "      <td>1798</td>\n",
              "    </tr>\n",
              "    <tr>\n",
              "      <th>8</th>\n",
              "      <td>Brooklyn</td>\n",
              "      <td>Crown Heights</td>\n",
              "      <td>1564</td>\n",
              "    </tr>\n",
              "    <tr>\n",
              "      <th>9</th>\n",
              "      <td>Manhattan</td>\n",
              "      <td>Midtown</td>\n",
              "      <td>1545</td>\n",
              "    </tr>\n",
              "    <tr>\n",
              "      <th>10</th>\n",
              "      <td>Manhattan</td>\n",
              "      <td>East Harlem</td>\n",
              "      <td>1117</td>\n",
              "    </tr>\n",
              "    <tr>\n",
              "      <th>11</th>\n",
              "      <td>Brooklyn</td>\n",
              "      <td>Greenpoint</td>\n",
              "      <td>1115</td>\n",
              "    </tr>\n",
              "    <tr>\n",
              "      <th>12</th>\n",
              "      <td>Manhattan</td>\n",
              "      <td>Chelsea</td>\n",
              "      <td>1113</td>\n",
              "    </tr>\n",
              "    <tr>\n",
              "      <th>13</th>\n",
              "      <td>Manhattan</td>\n",
              "      <td>Lower East Side</td>\n",
              "      <td>911</td>\n",
              "    </tr>\n",
              "    <tr>\n",
              "      <th>14</th>\n",
              "      <td>Queens</td>\n",
              "      <td>Astoria</td>\n",
              "      <td>900</td>\n",
              "    </tr>\n",
              "    <tr>\n",
              "      <th>15</th>\n",
              "      <td>Manhattan</td>\n",
              "      <td>Washington Heights</td>\n",
              "      <td>899</td>\n",
              "    </tr>\n",
              "    <tr>\n",
              "      <th>16</th>\n",
              "      <td>Manhattan</td>\n",
              "      <td>West Village</td>\n",
              "      <td>768</td>\n",
              "    </tr>\n",
              "    <tr>\n",
              "      <th>17</th>\n",
              "      <td>Manhattan</td>\n",
              "      <td>Financial District</td>\n",
              "      <td>744</td>\n",
              "    </tr>\n",
              "    <tr>\n",
              "      <th>18</th>\n",
              "      <td>Brooklyn</td>\n",
              "      <td>Flatbush</td>\n",
              "      <td>621</td>\n",
              "    </tr>\n",
              "    <tr>\n",
              "      <th>19</th>\n",
              "      <td>Brooklyn</td>\n",
              "      <td>Clinton Hill</td>\n",
              "      <td>572</td>\n",
              "    </tr>\n",
              "  </tbody>\n",
              "</table>\n",
              "</div>\n",
              "      <button class=\"colab-df-convert\" onclick=\"convertToInteractive('df-3f30d0a7-1c64-4549-ac99-0ef7e6bc6b30')\"\n",
              "              title=\"Convert this dataframe to an interactive table.\"\n",
              "              style=\"display:none;\">\n",
              "        \n",
              "  <svg xmlns=\"http://www.w3.org/2000/svg\" height=\"24px\"viewBox=\"0 0 24 24\"\n",
              "       width=\"24px\">\n",
              "    <path d=\"M0 0h24v24H0V0z\" fill=\"none\"/>\n",
              "    <path d=\"M18.56 5.44l.94 2.06.94-2.06 2.06-.94-2.06-.94-.94-2.06-.94 2.06-2.06.94zm-11 1L8.5 8.5l.94-2.06 2.06-.94-2.06-.94L8.5 2.5l-.94 2.06-2.06.94zm10 10l.94 2.06.94-2.06 2.06-.94-2.06-.94-.94-2.06-.94 2.06-2.06.94z\"/><path d=\"M17.41 7.96l-1.37-1.37c-.4-.4-.92-.59-1.43-.59-.52 0-1.04.2-1.43.59L10.3 9.45l-7.72 7.72c-.78.78-.78 2.05 0 2.83L4 21.41c.39.39.9.59 1.41.59.51 0 1.02-.2 1.41-.59l7.78-7.78 2.81-2.81c.8-.78.8-2.07 0-2.86zM5.41 20L4 18.59l7.72-7.72 1.47 1.35L5.41 20z\"/>\n",
              "  </svg>\n",
              "      </button>\n",
              "      \n",
              "  <style>\n",
              "    .colab-df-container {\n",
              "      display:flex;\n",
              "      flex-wrap:wrap;\n",
              "      gap: 12px;\n",
              "    }\n",
              "\n",
              "    .colab-df-convert {\n",
              "      background-color: #E8F0FE;\n",
              "      border: none;\n",
              "      border-radius: 50%;\n",
              "      cursor: pointer;\n",
              "      display: none;\n",
              "      fill: #1967D2;\n",
              "      height: 32px;\n",
              "      padding: 0 0 0 0;\n",
              "      width: 32px;\n",
              "    }\n",
              "\n",
              "    .colab-df-convert:hover {\n",
              "      background-color: #E2EBFA;\n",
              "      box-shadow: 0px 1px 2px rgba(60, 64, 67, 0.3), 0px 1px 3px 1px rgba(60, 64, 67, 0.15);\n",
              "      fill: #174EA6;\n",
              "    }\n",
              "\n",
              "    [theme=dark] .colab-df-convert {\n",
              "      background-color: #3B4455;\n",
              "      fill: #D2E3FC;\n",
              "    }\n",
              "\n",
              "    [theme=dark] .colab-df-convert:hover {\n",
              "      background-color: #434B5C;\n",
              "      box-shadow: 0px 1px 3px 1px rgba(0, 0, 0, 0.15);\n",
              "      filter: drop-shadow(0px 1px 2px rgba(0, 0, 0, 0.3));\n",
              "      fill: #FFFFFF;\n",
              "    }\n",
              "  </style>\n",
              "\n",
              "      <script>\n",
              "        const buttonEl =\n",
              "          document.querySelector('#df-3f30d0a7-1c64-4549-ac99-0ef7e6bc6b30 button.colab-df-convert');\n",
              "        buttonEl.style.display =\n",
              "          google.colab.kernel.accessAllowed ? 'block' : 'none';\n",
              "\n",
              "        async function convertToInteractive(key) {\n",
              "          const element = document.querySelector('#df-3f30d0a7-1c64-4549-ac99-0ef7e6bc6b30');\n",
              "          const dataTable =\n",
              "            await google.colab.kernel.invokeFunction('convertToInteractive',\n",
              "                                                     [key], {});\n",
              "          if (!dataTable) return;\n",
              "\n",
              "          const docLinkHtml = 'Like what you see? Visit the ' +\n",
              "            '<a target=\"_blank\" href=https://colab.research.google.com/notebooks/data_table.ipynb>data table notebook</a>'\n",
              "            + ' to learn more about interactive tables.';\n",
              "          element.innerHTML = '';\n",
              "          dataTable['output_type'] = 'display_data';\n",
              "          await google.colab.output.renderOutput(dataTable, element);\n",
              "          const docLink = document.createElement('div');\n",
              "          docLink.innerHTML = docLinkHtml;\n",
              "          element.appendChild(docLink);\n",
              "        }\n",
              "      </script>\n",
              "    </div>\n",
              "  </div>\n",
              "  "
            ]
          },
          "metadata": {},
          "execution_count": 18
        }
      ],
      "source": [
        "#----------------------Block 15----------------------------------\n",
        "\n",
        "#grouping observation on borough and then on neighbourhood and then picking up their count to find no. of hostings in different neighbourhoods\n",
        "top_20_neighbourhood = airbnbNY_data.groupby(['borough','neighbourhood']).agg({'id':\n",
        "                                            'count'}).sort_values(by='id',ascending=False)[0:20].reset_index()  #picking top 20 neighbourhoods\n",
        "top_20_neighbourhood.rename(columns={'id':'num of hostings'},inplace=True)  #renaming column 'id' to 'num of hostings'\n",
        "top_20_neighbourhood"
      ]
    },
    {
      "cell_type": "code",
      "execution_count": 19,
      "metadata": {
        "id": "RwbDDRDn2EQ7",
        "colab": {
          "base_uri": "https://localhost:8080/",
          "height": 554
        },
        "outputId": "482c41fb-af43-4c70-a5bc-1d7c973bf825"
      },
      "outputs": [
        {
          "output_type": "display_data",
          "data": {
            "text/plain": [
              "<Figure size 1080x504 with 1 Axes>"
            ],
            "image/png": "[encoded data removed]"
          },
          "metadata": {
            "needs_background": "light"
          }
        }
      ],
      "source": [
        "#----------------------Block 16----------------------------------\n",
        "\n",
        "#visualising Block 15\n",
        "plt.figure(figsize=(15,7))  #defining figure\n",
        "from matplotlib.lines import Line2D  #importing Line2D\n",
        "borough_dict = {} #initialising an empty dictionary to store the colour representation of boroughs\n",
        "unique_borough = set(list(top_20_neighbourhood['borough']))  #storing unique boroughs of top_20_neighbourhood in unique_borough\n",
        "borough_list = list(top_20_neighbourhood['borough'])  #storing boroughs of top_20_neighbourhood in the form of list \n",
        "color_list=[]  #initialising an empty list for storing the colour of each bar in bar plot\n",
        "color=['darkslategray','teal','darkturquoise']\n",
        "index=0\n",
        "for borough in unique_borough:\n",
        "  borough_dict[borough] =color[index]  #assigning unique colour that represents each borough\n",
        "  index=index+1\n",
        "for borough in borough_list:   \n",
        "       color_list.append(borough_dict[borough])  #storing the colour of each bar of bar plot in color_list\n",
        "plt.bar(top_20_neighbourhood['neighbourhood'],top_20_neighbourhood['num of hostings'],color=color_list)  #plotting a bar plot\n",
        "#creating a custom labels for a graph\n",
        "labels = list(borough_dict.keys())\n",
        "custom_lines = [Line2D([1,2,5,5], [1,2,5,5], color='darkslategray', lw=4),\n",
        "                Line2D([1,2,5,5], [1,2,5,5], color='teal', lw=4),\n",
        "                Line2D([1,2,5,5], [1,2,5,5], color='darkturquoise', lw=4)]\n",
        "plt.xticks(rotation = 90)  #to rotate x-ticks by 90 degree\n",
        "plt.legend(custom_lines,labels)  #to get legends in graph\n",
        "plt.xlabel('neighbourhood',fontsize=13)\n",
        "plt.ylabel('Number of hosts',fontsize=13)\n",
        "plt.title(\"Top 20 neighbourhoods in terms of number of hostings\",fontsize=15)\n",
        "plt.show()"
      ]
    },
    {
      "cell_type": "markdown",
      "metadata": {
        "id": "UxqeDuAf2qR1"
      },
      "source": [
        "*From the above graph we can see that :*\n",
        "\n",
        "* Among top 20 neighbourhoods most of these neighbourhood belongs to Manhattan borough.\n",
        "*Although If looking for top 3 densely hosted neighbourhood top 2 belongs to Brooklyn."
      ]
    },
    {
      "cell_type": "code",
      "source": [
        "len(airbnbNY_data[airbnbNY_data['calculated_host_listings_count']<8])"
      ],
      "metadata": {
        "id": "CG21YjQBNyks",
        "colab": {
          "base_uri": "https://localhost:8080/"
        },
        "outputId": "6c2ec17c-e1c3-4c5b-fea5-24e4d119fe9c"
      },
      "execution_count": 20,
      "outputs": [
        {
          "output_type": "execute_result",
          "data": {
            "text/plain": [
              "45068"
            ]
          },
          "metadata": {},
          "execution_count": 20
        }
      ]
    },
    {
      "cell_type": "markdown",
      "metadata": {
        "id": "J9WtOOV7OrfB"
      },
      "source": [
        "###**Neighbourhoods each borough have**"
      ]
    },
    {
      "cell_type": "code",
      "execution_count": 21,
      "metadata": {
        "id": "9JhD4v4LOxfi",
        "colab": {
          "base_uri": "https://localhost:8080/",
          "height": 462
        },
        "outputId": "2146e6d8-a4d4-475e-baf4-c53eab3c4a91"
      },
      "outputs": [
        {
          "output_type": "display_data",
          "data": {
            "text/plain": [
              "<Figure size 720x432 with 1 Axes>"
            ],
            "image/png": "[encoded data removed]"
          },
          "metadata": {
            "needs_background": "light"
          }
        }
      ],
      "source": [
        "#----------------------Block 17----------------------------------\n",
        "\n",
        "fig = plt.figure(figsize=(10,6))  #defining figure\n",
        "ngbrhood = airbnbNY_data.groupby('borough')['neighbourhood'].nunique().sort_values(ascending=False)  #number of unique neighbourhoods in each borough\n",
        "ngbrhood.plot.bar(color='orange')  #bar plot representing no. of neighbourhoods in each borough\n",
        "plt.ylabel('No. of neighbourhoods')\n",
        "plt.title('Number of neighbourhoods in each borough',fontsize=15)\n",
        "for ind, val in enumerate(ngbrhood):\n",
        "  plt.text(x = ind, y =val+1, s = str(val))  #to get text over bars"
      ]
    },
    {
      "cell_type": "markdown",
      "metadata": {
        "id": "B8SAV391UL8S"
      },
      "source": [
        "*Although Mahnhattan and Brooklyn have most no. of hostings but in terms of neighbourhood they are quite back.*\n",
        "\n",
        "*Reason for it can be Manhattan and Brooklyn have most tourist places and many hostings has been bunched around under same neigbourhood. Thus having most hostings without having much of neighbourhoods.*"
      ]
    },
    {
      "cell_type": "markdown",
      "metadata": {
        "id": "uX-Vzw98Vr-m"
      },
      "source": [
        "###**Lets look for the price distribution in each boroughs**"
      ]
    },
    {
      "cell_type": "code",
      "execution_count": 22,
      "metadata": {
        "id": "2Bce7OmqV0jT",
        "colab": {
          "base_uri": "https://localhost:8080/",
          "height": 1000
        },
        "outputId": "02f80026-0273-4cbb-e18d-86b57c46c398"
      },
      "outputs": [
        {
          "output_type": "display_data",
          "data": {
            "text/plain": [
              "<Figure size 360x360 with 1 Axes>"
            ],
            "image/png": "[encoded data removed]"
          },
          "metadata": {
            "needs_background": "light"
          }
        },
        {
          "output_type": "display_data",
          "data": {
            "text/plain": [
              "<Figure size 360x360 with 1 Axes>"
            ],
            "image/png": "[encoded data removed]"
          },
          "metadata": {
            "needs_background": "light"
          }
        },
        {
          "output_type": "display_data",
          "data": {
            "text/plain": [
              "<Figure size 360x360 with 1 Axes>"
            ],
            "image/png": "[encoded data removed]"
          },
          "metadata": {
            "needs_background": "light"
          }
        },
        {
          "output_type": "display_data",
          "data": {
            "text/plain": [
              "<Figure size 360x360 with 1 Axes>"
            ],
            "image/png": "[encoded data removed]"
          },
          "metadata": {
            "needs_background": "light"
          }
        },
        {
          "output_type": "display_data",
          "data": {
            "text/plain": [
              "<Figure size 360x360 with 1 Axes>"
            ],
            "image/png": "[encoded data removed]"
          },
          "metadata": {
            "needs_background": "light"
          }
        }
      ],
      "source": [
        "#----------------------Block 18----------------------------------\n",
        "\n",
        "boroughs = set(list(airbnbNY_data['borough']))  #storing distinct boroughs\n",
        "for borough in boroughs:\n",
        "  fig = plt.figure(figsize=(5,5))\n",
        "  axs = fig.gca()  #gca--> get current axis\n",
        "  price_dist = list(airbnbNY_data[airbnbNY_data['borough']== borough]['price'])  #list of price for each borough\n",
        "  price_dist = [price for price in price_dist if ((price < 600) and (price>0))]  #Limiting price value to 600 to avoid outliers that limits our visualisation\n",
        "  axs.set_title(borough)\n",
        "  sns.distplot(price_dist, ax=axs,color='green')  #price distribution across each borough"
      ]
    },
    {
      "cell_type": "markdown",
      "metadata": {
        "id": "GLVz2kxoaqj-"
      },
      "source": [
        "*Note as told earlier, as needed here, we have done an outlier treatment.*\n",
        "\n",
        "*Even after removing outliers still the data is bit skewed. We can further decrease the threshold of price also.*\n",
        "\n",
        "*Starting price ranges are nearly same for each boroughs and they are starting from as low as to somewhere 10 dollars and most of them are ending at 200 with few rentals having price greater than 200.In which manhattan has max number of rentals with price greater than 200*\n",
        "\n",
        "*Note : Prices are heavily influenced by the outliers .I have set an threshold of price 600 in order to avoid outlier so that we can visualize the range better.*"
      ]
    },
    {
      "cell_type": "markdown",
      "metadata": {
        "id": "UaoLf-TzDaws"
      },
      "source": [
        "###**Let's check how does an average price varies in each borough**"
      ]
    },
    {
      "cell_type": "code",
      "execution_count": 23,
      "metadata": {
        "id": "Iz67aL3h2Occ",
        "colab": {
          "base_uri": "https://localhost:8080/",
          "height": 462
        },
        "outputId": "5d8911b2-7cb2-4418-9aea-dc8e41d53de9"
      },
      "outputs": [
        {
          "output_type": "display_data",
          "data": {
            "text/plain": [
              "<Figure size 720x432 with 1 Axes>"
            ],
            "image/png": "[encoded data removed]"
          },
          "metadata": {
            "needs_background": "light"
          }
        }
      ],
      "source": [
        "#----------------------Block 19----------------------------------\n",
        "\n",
        "fig= plt.figure(figsize=(10,6))\n",
        "axes = fig.gca()\n",
        "avgprice_df = airbnbNY_data[airbnbNY_data['price']<600]  #creating sub dataframe with price less than 600\n",
        "#grouping by borough and averaging out by price to find average price across each borough\n",
        "avgprice_borough = avgprice_df.groupby('borough').agg({'price':'mean'}).sort_values(by='price',ascending = False)\n",
        "avgprice_borough.plot.bar(ax = axes)  #bar plot represeting average price across each borough\n",
        "plt.title('Average Pricing in each borough',fontsize=15)\n",
        "avgprice = list(np.around(avgprice_borough.values.reshape(5,))) #rounding up and storing average price of each borough in a list\n",
        "axes.set_ylabel('average price')\n",
        "for ind, val in enumerate(avgprice):\n",
        "  axes.text(x = ind, y =val+3, s = str(val))  #to put text over bars"
      ]
    },
    {
      "cell_type": "markdown",
      "metadata": {
        "id": "AxOCeeUPJTEt"
      },
      "source": [
        "* Manhattan is one of the borough that charges quite high for hostings followed by Brooklyn.\n",
        "\n",
        "* Manhattan include most of the tourist places including Times Squares, etc that can be the reason of this price hikes.\n",
        "\n",
        "*Note - Please note that I have taking a threshold of 600 here as well because we know that average is heavily affected by outliers* \n"
      ]
    },
    {
      "cell_type": "markdown",
      "metadata": {
        "id": "7cH6wYUHLOR4"
      },
      "source": [
        "###**Let's check the same in terms of price for each neighbourhood**"
      ]
    },
    {
      "cell_type": "code",
      "execution_count": 24,
      "metadata": {
        "id": "-gPhtoEmEI0P",
        "colab": {
          "base_uri": "https://localhost:8080/",
          "height": 483
        },
        "outputId": "b918f24f-c5ad-4634-fd51-8d0efc308cdc"
      },
      "outputs": [
        {
          "output_type": "display_data",
          "data": {
            "text/plain": [
              "<Figure size 1080x432 with 1 Axes>"
            ],
            "image/png": "[encoded data removed]"
          },
          "metadata": {
            "needs_background": "light"
          }
        }
      ],
      "source": [
        "#----------------------Block 20----------------------------------\n",
        "\n",
        "#Seperating out the top 10 neighbourhoods with highest average charges\n",
        "avgprice_neighbourhood = airbnbNY_data.groupby(['borough','neighbourhood']).agg({'price':'mean'}).reset_index().sort_values(by='price',ascending=False)[0:10]\n",
        "plt.figure(figsize=(15,6))\n",
        "borough_dict = {}   #dictionary to store unique borough and color label associated with it \n",
        "unique_borough = set(list(avgprice_neighbourhood['borough']))  #seperating out the unique borough names from sub dataframe\n",
        "borough_list = list(avgprice_neighbourhood['borough'])  #listing out all observations boroughs from sub dataframe\n",
        "color_list=[]  #list to store the color associated with bar plots\n",
        "color=['bisque','cyan','pink','lavender','red']\n",
        "index=0 \n",
        "for borough in unique_borough:\n",
        "  borough_dict[borough] =color[index]  #assigning key value pair in borough_dict with keys as borough of unique_borough and values as colours of color list \n",
        "  index=index+1\n",
        "for borough in borough_list:   \n",
        "       color_list.append(borough_dict[borough])  \n",
        "plt.bar(avgprice_neighbourhood['neighbourhood'],avgprice_neighbourhood['price'],color=color_list)  #bar plot representing top 10 average price neighbourhoods\n",
        "labels = list(borough_dict.keys())\n",
        "custom_lines = [Line2D([0], [0], color='bisque', lw=4),  # custom limes for label of bar graph \n",
        "                Line2D([0], [0], color='cyan', lw=4),\n",
        "                Line2D([0], [0], color='pink', lw=4),\n",
        "                Line2D([0], [0], color='lavender', lw=4),\n",
        "                Line2D([0], [0], color='red', lw=4)]\n",
        "plt.xticks(rotation = 90)\n",
        "plt.legend(custom_lines,labels)\n",
        "plt.xlabel('neighbourhood',fontsize=13)\n",
        "plt.ylabel('Average Price',fontsize=13)\n",
        "plt.title(\"10 Neighbourhoods having highest average prices\",fontsize=15)\n",
        "plt.show()"
      ]
    },
    {
      "cell_type": "markdown",
      "metadata": {
        "id": "iKACOXzFi479"
      },
      "source": [
        "*Staten Islands neighbourhoods seems to have some of the top chargable rentals and Manhattan follows them. Although from our previous analysis it seems that Manhattan is one of the expensive borough but still We have to investigate it a bit further as this might be the result of strong outliers as well. So lets visualize box plots for these 10 neighbourhoods to know if they actually have a higher prices or its just some strong outliers.*"
      ]
    },
    {
      "cell_type": "code",
      "execution_count": 25,
      "metadata": {
        "id": "dYyMx_tjJ1wg"
      },
      "outputs": [],
      "source": [
        "#----------------------Block 21----------------------------------\n",
        "\n",
        "# nghbrhood function to segregate the dataframe only for top 10 neighbourhoods\n",
        "def nghbrhood(col):\n",
        "  if col in neighbourhood_lst:\n",
        "    return True\n",
        "  else:\n",
        "    return False"
      ]
    },
    {
      "cell_type": "code",
      "execution_count": 26,
      "metadata": {
        "id": "imiVfOEekt-_",
        "colab": {
          "base_uri": "https://localhost:8080/",
          "height": 515
        },
        "outputId": "5599a158-4b0e-4422-8ecd-446ca881407c"
      },
      "outputs": [
        {
          "output_type": "display_data",
          "data": {
            "text/plain": [
              "<Figure size 1080x576 with 1 Axes>"
            ],
            "image/png": "[encoded data removed]"
          },
          "metadata": {
            "needs_background": "light"
          }
        }
      ],
      "source": [
        "#----------------------Block 22----------------------------------\n",
        "\n",
        "neighbourhood_lst = list(avgprice_neighbourhood['neighbourhood'])  #storing list of top 10 neighbourhoods\n",
        "plt.figure(figsize=(15,8))\n",
        "df_nghbrhoodprice = airbnbNY_data[airbnbNY_data['neighbourhood'].apply(nghbrhood)]  #applying above defined function \n",
        "sns.boxplot(x='neighbourhood',y='price', data = df_nghbrhoodprice )  #boxplot showing price distribution across each of top 10 neighbourhoods\n",
        "plt.title('Price distribution in top 10 neighbourhoods',fontsize=15)\n",
        "plt.show()"
      ]
    },
    {
      "cell_type": "markdown",
      "metadata": {
        "id": "qPA6RPJrqLSb"
      },
      "source": [
        "*So as thought it seems that Fort Wadsworth and Woodrow doesn't have multiple entries they both only have one listing, Fort Wadsworth with price nearby 800 and Woodsrow having a price nearby 700.*\n",
        "\n",
        "*Whereas Tribeca, Flatiron district and battery park city is heavily influenced by the outliers.*\n",
        "\n",
        "*Prince's bay and River Dales are the ones that doesn't seems to be affected by the outlier and in general have higher prices.*\n",
        "\n",
        "*Lets see if we try with the threshold price of 600 how does result varies.*"
      ]
    },
    {
      "cell_type": "code",
      "execution_count": 27,
      "metadata": {
        "id": "18unz6abrovU",
        "colab": {
          "base_uri": "https://localhost:8080/",
          "height": 482
        },
        "outputId": "4ddafb0b-1b17-4a48-904b-ba740a0a6f47"
      },
      "outputs": [
        {
          "output_type": "display_data",
          "data": {
            "text/plain": [
              "<Figure size 1080x432 with 1 Axes>"
            ],
            "image/png": "[encoded data removed]"
          },
          "metadata": {
            "needs_background": "light"
          }
        }
      ],
      "source": [
        "#----------------------Block 23----------------------------------\n",
        "\n",
        "#Seperating out the top 10 neighbourhoods with highest average charges with price threshold 600\n",
        "avgprice_neighbourhood = avgprice_df.groupby(['borough','neighbourhood']).agg({'price':'mean'}).reset_index().sort_values(by='price',ascending=False)[0:10]\n",
        "plt.figure(figsize=(15,6))\n",
        "borough_dict = {}   #dictionary to store unique borough and color label associated with it \n",
        "unique_borough = set(list(avgprice_neighbourhood['borough']))  #seperating out the unique borough names from sub dataframe\n",
        "borough_list = list(avgprice_neighbourhood['borough'])  #listing out all observations boroughs from sub dataframe\n",
        "color_list=[]  #list to store the color associated with bar plots\n",
        "color=['bisque','cyan','pink','blue','red']\n",
        "index=0\n",
        "for borough in unique_borough:\n",
        "  borough_dict[borough] =color[index]   #assigning key value pair in borough_dict with keys as borough of unique_borough and values as colours of color list \n",
        "  index=index+1\n",
        "for borough in borough_list:   \n",
        "       color_list.append(borough_dict[borough])\n",
        "plt.bar(avgprice_neighbourhood['neighbourhood'],avgprice_neighbourhood['price'],color=color_list)\n",
        "labels = list(borough_dict.keys())\n",
        "custom_lines = [Line2D([0], [0], color='bisque', lw=4),  # custom limes for label of bar graph \n",
        "                Line2D([0], [0], color='cyan', lw=4),\n",
        "                Line2D([0], [0], color='pink', lw=4),\n",
        "                Line2D([0], [0], color='blue', lw=4),\n",
        "                Line2D([0], [0], color='red', lw=4)]\n",
        "plt.xticks(rotation = 90)\n",
        "plt.legend(custom_lines,labels)\n",
        "plt.xlabel('neighbourhood',fontsize=13)\n",
        "plt.ylabel('Average Price',fontsize=13)\n",
        "plt.title(\"10 Neighbourhoods having highest average prices\",fontsize=15)\n",
        "plt.show()"
      ]
    },
    {
      "cell_type": "code",
      "execution_count": 28,
      "metadata": {
        "id": "ROC9V-pTr_r8",
        "colab": {
          "base_uri": "https://localhost:8080/",
          "height": 515
        },
        "outputId": "3dad9681-aaf8-435d-bfb5-e37dbaa11f06"
      },
      "outputs": [
        {
          "output_type": "display_data",
          "data": {
            "text/plain": [
              "<Figure size 1080x576 with 1 Axes>"
            ],
            "image/png": "[encoded data removed]"
          },
          "metadata": {
            "needs_background": "light"
          }
        }
      ],
      "source": [
        "#----------------------Block 24----------------------------------\n",
        "\n",
        "neighbourhood_lst = list(avgprice_neighbourhood['neighbourhood'])  #storing list of top 10 neighbourhoods\n",
        "plt.figure(figsize=(15,8))\n",
        "df_nghbrhoodprice = avgprice_df[avgprice_df['neighbourhood'].apply(nghbrhood)]  #applying defined function in Block21\n",
        "sns.boxplot(x='neighbourhood',y='price', hue='borough',data = df_nghbrhoodprice)  #boxplot showing price distribution across each of top 10 neighbourhoods\n",
        "plt.title('Price distribution in top 10 neighbourhoods',fontsize=15) #adding title to the plot\n",
        "plt.show()"
      ]
    },
    {
      "cell_type": "markdown",
      "metadata": {
        "id": "9eAbiu0RxO2d"
      },
      "source": [
        "*As we have changed a price threshold to 600 picture changes pretty much thus these neighhbourhood prices are influenced by outliers. You can also try changing multiple threshold and can visualize how the graph and neighbourhood changes* \n",
        "\n",
        "*We can see, most of the top 10 neighbourhoods belongs to Manhattan*"
      ]
    },
    {
      "cell_type": "markdown",
      "metadata": {
        "id": "og3TJmGzrnbI"
      },
      "source": [
        "###**We have played pretty much along with area and collected an info :**\n",
        "\n",
        "\n",
        "*1. Among all 5 boroughs Manhattans and Brooklyn are the ones who have most rentals. Manhattan is the most famous tourism borough and that is one of the reasons for most rentals.*\n",
        "\n",
        "*2. Although Manhattan dominates in no. of hostings but neighbourhoods of Brooklyn dominates on first 2 positions in among top 20 neighbourhoods. Still if we quantify the result than we see we have most number of Manhattan neighbourhoods tooks a place among top 20 neighbourhood.*\n",
        "\n",
        "*3. Williamsburg is a hip neighbourhood in Brooklyn that is famous for trendy cafes and buzzy restaurants. Street art brightens residential thoroughfares and repurposed factories, while the waterfront provides stunning views of Manhattan and seasonal venues for outdoor concerts and food markets.*\n",
        "\n",
        "*4.Number of neighbourhood is highest in Queens and lowest in Manhattan still Manhattan has most no. of rentals.*\n",
        "\n",
        "*5. Due to this tourism factor average price of rentals is higher in Manhattan and after Manhattan Brooklyn follows it.*\n",
        "\n",
        "*6. Price data contains too many outliers, mostly the price of hotel saturates at max near 200-300 Dollar but we have some rentals charging as high as 10000 Dollar. Thus creating a bias in average prices. We have tried to visualize the price data among different neighbourhoods and in that case also after outlier treatment out of top higest pricing neighbourhood 7 belongs to Manhattan.*\n"
      ]
    }
  ],
  "metadata": {
    "colab": {
      "collapsed_sections": [
        "hy23Hf2U8cTF"
      ],
      "name": "Airbnb Bookings Analysis.ipynb",
      "provenance": [],
      "include_colab_link": true
    },
    "kernelspec": {
      "display_name": "Python 3",
      "language": "python",
      "name": "python3"
    },
    "language_info": {
      "codemirror_mode": {
        "name": "ipython",
        "version": 3
      },
      "file_extension": ".py",
      "mimetype": "text/x-python",
      "name": "python",
      "nbconvert_exporter": "python",
      "pygments_lexer": "ipython3",
      "version": "3.6.6"
    }
  },
  "nbformat": 4,
  "nbformat_minor": 0
}